{
 "cells": [
  {
   "cell_type": "code",
   "execution_count": 1,
   "id": "95c6599b",
   "metadata": {},
   "outputs": [],
   "source": [
    "import os\n",
    "import pickle\n",
    "import httpx\n",
    "import pandas as pd\n",
    "import pycountry\n",
    "import datetime\n",
    "from http import HTTPStatus\n",
    "import plotly.express as px\n",
    "import datetime\n",
    "\n",
    "from dotenv import load_dotenv"
   ]
  },
  {
   "cell_type": "code",
   "execution_count": 2,
   "id": "7d66721e",
   "metadata": {},
   "outputs": [],
   "source": [
    "load_dotenv()\n",
    "api_key = os.getenv(\"BAZZE_API_KEY\")\n",
    "headers = {\"x-api-key\": api_key}"
   ]
  },
  {
   "cell_type": "code",
   "execution_count": 3,
   "id": "697c4859",
   "metadata": {},
   "outputs": [],
   "source": [
    "from bazze.bazze_api_client import AuthenticatedClient, Client"
   ]
  },
  {
   "cell_type": "code",
   "execution_count": 5,
   "id": "cd190639",
   "metadata": {},
   "outputs": [],
   "source": [
    "from bazze.bazze_api_client.models import query_execution\n",
    "from bazze.bazze_api_client.models import counts\n",
    "from bazze.bazze_api_client.api.statistics import stats_counts_by_country_get\n",
    "from bazze.bazze_api_client.api.statistics import stats_counts_by_countries_get\n",
    "from bazze.bazze_api_client.datatypes import Response\n",
    "from bazze.bazze_api_client.api.results import results_post\n",
    "from bazze.bazze_api_client.models import results\n",
    "\n",
    "from bazze.bazze_api_client.models.query_execution import QueryExecution\n",
    "\n",
    "#rename 'types.py' to 'datatypes.py'"
   ]
  },
  {
   "cell_type": "code",
   "execution_count": 6,
   "id": "81a9e8da",
   "metadata": {},
   "outputs": [],
   "source": [
    "client = Client(base_url=\"https://api.bazze.io/v1\", headers=headers, timeout=120)"
   ]
  },
  {
   "cell_type": "code",
   "execution_count": 7,
   "id": "c669b188",
   "metadata": {},
   "outputs": [],
   "source": [
    "#helper functions \n",
    "def get_iso3(country):\n",
    "    try:\n",
    "        return pycountry.countries.get(alpha_2=country).alpha_3\n",
    "    except:\n",
    "        return None\n",
    "\n",
    "\n",
    "def get_population(country):\n",
    "    try:\n",
    "        return pypopulation.get_population(country)\n",
    "    except:\n",
    "        return None\n"
   ]
  },
  {
   "cell_type": "code",
   "execution_count": 8,
   "id": "8721dc79",
   "metadata": {},
   "outputs": [
    {
     "data": {
      "text/plain": [
       "CountsAndDailyAvg(daily_avg_advertising_ids=<bazze.bazze_api_client.datatypes.Unset object at 0x11daf98e0>, daily_avg_ip_addresses=<bazze.bazze_api_client.datatypes.Unset object at 0x11daf98e0>, daily_avg_wifi_bssids=<bazze.bazze_api_client.datatypes.Unset object at 0x11daf98e0>, daily_avg_wifi_ssids=<bazze.bazze_api_client.datatypes.Unset object at 0x11daf98e0>, total_records=<bazze.bazze_api_client.datatypes.Unset object at 0x11daf98e0>, additional_properties={'QueryExecutionId': '45e0537e-c4ea-41bf-8799-64aba4731441', 'results': [{'country': 'AD', 'daily_avg_advertising_ids': '32.0', 'daily_avg_ip_addresses': '27.0', 'daily_avg_wifi_bssids': '0.0', 'daily_avg_wifi_ssids': '0.0', 'total_records': '37517'}, {'country': 'AE', 'daily_avg_advertising_ids': '149461.0', 'daily_avg_ip_addresses': '76624.0', 'daily_avg_wifi_bssids': '0.0', 'daily_avg_wifi_ssids': '0.0', 'total_records': '1165167782'}, {'country': 'AF', 'daily_avg_advertising_ids': '980.0', 'daily_avg_ip_addresses': '1601.0', 'daily_avg_wifi_bssids': '0.0', 'daily_avg_wifi_ssids': '0.0', 'total_records': '2188451'}, {'country': 'AG', 'daily_avg_advertising_ids': '99.0', 'daily_avg_ip_addresses': '103.0', 'daily_avg_wifi_bssids': '0.0', 'daily_avg_wifi_ssids': '0.0', 'total_records': '250376'}, {'country': 'AI', 'daily_avg_advertising_ids': '5.0', 'daily_avg_ip_addresses': '5.0', 'daily_avg_wifi_bssids': '0.0', 'daily_avg_wifi_ssids': '0.0', 'total_records': '11814'}, {'country': 'AL', 'daily_avg_advertising_ids': '151.0', 'daily_avg_ip_addresses': '257.0', 'daily_avg_wifi_bssids': '0.0', 'daily_avg_wifi_ssids': '0.0', 'total_records': '1616319'}, {'country': 'AM', 'daily_avg_advertising_ids': '271.0', 'daily_avg_ip_addresses': '616.0', 'daily_avg_wifi_bssids': '0.0', 'daily_avg_wifi_ssids': '0.0', 'total_records': '6327607'}, {'country': 'AO', 'daily_avg_advertising_ids': '166.0', 'daily_avg_ip_addresses': '267.0', 'daily_avg_wifi_bssids': '0.0', 'daily_avg_wifi_ssids': '0.0', 'total_records': '1371170'}, {'country': 'AQ', 'daily_avg_advertising_ids': '51.0', 'daily_avg_ip_addresses': '11.0', 'daily_avg_wifi_bssids': '0.0', 'daily_avg_wifi_ssids': '0.0', 'total_records': '32261'}, {'country': 'AR', 'daily_avg_advertising_ids': '938998.0', 'daily_avg_ip_addresses': '93567.0', 'daily_avg_wifi_bssids': '0.0', 'daily_avg_wifi_ssids': '0.0', 'total_records': '3407926822'}, {'country': 'AS', 'daily_avg_advertising_ids': '85.0', 'daily_avg_ip_addresses': '23.0', 'daily_avg_wifi_bssids': '0.0', 'daily_avg_wifi_ssids': '0.0', 'total_records': '124717'}, {'country': 'AU', 'daily_avg_advertising_ids': '1550634.0', 'daily_avg_ip_addresses': '838089.0', 'daily_avg_wifi_bssids': '0.0', 'daily_avg_wifi_ssids': '0.0', 'total_records': '71438763960'}, {'country': 'AW', 'daily_avg_advertising_ids': '52.0', 'daily_avg_ip_addresses': '52.0', 'daily_avg_wifi_bssids': '0.0', 'daily_avg_wifi_ssids': '0.0', 'total_records': '174043'}, {'country': 'AX', 'daily_avg_advertising_ids': '21.0', 'daily_avg_ip_addresses': '23.0', 'daily_avg_wifi_bssids': '0.0', 'daily_avg_wifi_ssids': '0.0', 'total_records': '80078'}, {'country': 'AZ', 'daily_avg_advertising_ids': '1472.0', 'daily_avg_ip_addresses': '1826.0', 'daily_avg_wifi_bssids': '0.0', 'daily_avg_wifi_ssids': '0.0', 'total_records': '10361944'}, {'country': 'BA', 'daily_avg_advertising_ids': '138.0', 'daily_avg_ip_addresses': '210.0', 'daily_avg_wifi_bssids': '0.0', 'daily_avg_wifi_ssids': '0.0', 'total_records': '797909'}, {'country': 'BB', 'daily_avg_advertising_ids': '40.0', 'daily_avg_ip_addresses': '56.0', 'daily_avg_wifi_bssids': '0.0', 'daily_avg_wifi_ssids': '0.0', 'total_records': '222789'}, {'country': 'BD', 'daily_avg_advertising_ids': '888229.0', 'daily_avg_ip_addresses': '28233.0', 'daily_avg_wifi_bssids': '0.0', 'daily_avg_wifi_ssids': '0.0', 'total_records': '2983147732'}, {'country': 'BF', 'daily_avg_advertising_ids': '2477.0', 'daily_avg_ip_addresses': '1292.0', 'daily_avg_wifi_bssids': '0.0', 'daily_avg_wifi_ssids': '0.0', 'total_records': '5482566'}, {'country': 'BH', 'daily_avg_advertising_ids': '4950.0', 'daily_avg_ip_addresses': '4670.0', 'daily_avg_wifi_bssids': '0.0', 'daily_avg_wifi_ssids': '0.0', 'total_records': '11705075'}, {'country': 'BI', 'daily_avg_advertising_ids': '20.0', 'daily_avg_ip_addresses': '34.0', 'daily_avg_wifi_bssids': '0.0', 'daily_avg_wifi_ssids': '0.0', 'total_records': '94046'}, {'country': 'BJ', 'daily_avg_advertising_ids': '168.0', 'daily_avg_ip_addresses': '240.0', 'daily_avg_wifi_bssids': '0.0', 'daily_avg_wifi_ssids': '0.0', 'total_records': '1902124'}, {'country': 'BL', 'daily_avg_advertising_ids': '4.0', 'daily_avg_ip_addresses': '5.0', 'daily_avg_wifi_bssids': '0.0', 'daily_avg_wifi_ssids': '0.0', 'total_records': '13846'}, {'country': 'BM', 'daily_avg_advertising_ids': '25.0', 'daily_avg_ip_addresses': '31.0', 'daily_avg_wifi_bssids': '0.0', 'daily_avg_wifi_ssids': '0.0', 'total_records': '62776'}, {'country': 'BN', 'daily_avg_advertising_ids': '1230.0', 'daily_avg_ip_addresses': '1460.0', 'daily_avg_wifi_bssids': '0.0', 'daily_avg_wifi_ssids': '0.0', 'total_records': '8304545'}, {'country': 'BO', 'daily_avg_advertising_ids': '653.0', 'daily_avg_ip_addresses': '784.0', 'daily_avg_wifi_bssids': '0.0', 'daily_avg_wifi_ssids': '0.0', 'total_records': '8761456'}, {'country': 'BQ', 'daily_avg_advertising_ids': '2.0', 'daily_avg_ip_addresses': '2.0', 'daily_avg_wifi_bssids': '0.0', 'daily_avg_wifi_ssids': '0.0', 'total_records': '136'}, {'country': 'BR', 'daily_avg_advertising_ids': '7663629.0', 'daily_avg_ip_addresses': '2868296.0', 'daily_avg_wifi_bssids': '0.0', 'daily_avg_wifi_ssids': '0.0', 'total_records': '107442332363'}, {'country': 'BS', 'daily_avg_advertising_ids': '285.0', 'daily_avg_ip_addresses': '308.0', 'daily_avg_wifi_bssids': '0.0', 'daily_avg_wifi_ssids': '0.0', 'total_records': '1690733'}, {'country': 'BT', 'daily_avg_advertising_ids': '831.0', 'daily_avg_ip_addresses': '490.0', 'daily_avg_wifi_bssids': '0.0', 'daily_avg_wifi_ssids': '0.0', 'total_records': '3130992'}, {'country': 'BV', 'daily_avg_advertising_ids': '1.0', 'daily_avg_ip_addresses': '1.0', 'daily_avg_wifi_bssids': '0.0', 'daily_avg_wifi_ssids': '0.0', 'total_records': '7'}, {'country': 'BW', 'daily_avg_advertising_ids': '84.0', 'daily_avg_ip_addresses': '123.0', 'daily_avg_wifi_bssids': '0.0', 'daily_avg_wifi_ssids': '0.0', 'total_records': '349727'}, {'country': 'BY', 'daily_avg_advertising_ids': '2158.0', 'daily_avg_ip_addresses': '4973.0', 'daily_avg_wifi_bssids': '0.0', 'daily_avg_wifi_ssids': '0.0', 'total_records': '99938835'}, {'country': 'BZ', 'daily_avg_advertising_ids': '250.0', 'daily_avg_ip_addresses': '212.0', 'daily_avg_wifi_bssids': '0.0', 'daily_avg_wifi_ssids': '0.0', 'total_records': '4247009'}, {'country': 'CA', 'daily_avg_advertising_ids': '1437874.0', 'daily_avg_ip_addresses': '492368.0', 'daily_avg_wifi_bssids': '0.0', 'daily_avg_wifi_ssids': '0.0', 'total_records': '900467476'}, {'country': 'CC', 'daily_avg_advertising_ids': '1.0', 'daily_avg_ip_addresses': '2.0', 'daily_avg_wifi_bssids': '0.0', 'daily_avg_wifi_ssids': '0.0', 'total_records': '79'}, {'country': 'CD', 'daily_avg_advertising_ids': '1013.0', 'daily_avg_ip_addresses': '793.0', 'daily_avg_wifi_bssids': '0.0', 'daily_avg_wifi_ssids': '0.0', 'total_records': '1475432'}, {'country': 'CF', 'daily_avg_advertising_ids': '21.0', 'daily_avg_ip_addresses': '30.0', 'daily_avg_wifi_bssids': '0.0', 'daily_avg_wifi_ssids': '0.0', 'total_records': '78396'}, {'country': 'CG', 'daily_avg_advertising_ids': '99.0', 'daily_avg_ip_addresses': '129.0', 'daily_avg_wifi_bssids': '0.0', 'daily_avg_wifi_ssids': '0.0', 'total_records': '419449'}, {'country': 'CH', 'daily_avg_advertising_ids': '342.0', 'daily_avg_ip_addresses': '331.0', 'daily_avg_wifi_bssids': '0.0', 'daily_avg_wifi_ssids': '0.0', 'total_records': '227099'}, {'country': 'CI', 'daily_avg_advertising_ids': '9469.0', 'daily_avg_ip_addresses': '3378.0', 'daily_avg_wifi_bssids': '0.0', 'daily_avg_wifi_ssids': '0.0', 'total_records': '26734118'}, {'country': 'CK', 'daily_avg_advertising_ids': '8.0', 'daily_avg_ip_addresses': '6.0', 'daily_avg_wifi_bssids': '0.0', 'daily_avg_wifi_ssids': '0.0', 'total_records': '8505'}, {'country': 'CL', 'daily_avg_advertising_ids': '394408.0', 'daily_avg_ip_addresses': '120475.0', 'daily_avg_wifi_bssids': '0.0', 'daily_avg_wifi_ssids': '0.0', 'total_records': '1406598897'}, {'country': 'CM', 'daily_avg_advertising_ids': '2272.0', 'daily_avg_ip_addresses': '939.0', 'daily_avg_wifi_bssids': '0.0', 'daily_avg_wifi_ssids': '0.0', 'total_records': '2796795'}, {'country': 'CN', 'daily_avg_advertising_ids': '11495.0', 'daily_avg_ip_addresses': '10837.0', 'daily_avg_wifi_bssids': '0.0', 'daily_avg_wifi_ssids': '0.0', 'total_records': '52239805'}, {'country': 'CO', 'daily_avg_advertising_ids': '1287143.0', 'daily_avg_ip_addresses': '270447.0', 'daily_avg_wifi_bssids': '0.0', 'daily_avg_wifi_ssids': '0.0', 'total_records': '14563128669'}, {'country': 'CR', 'daily_avg_advertising_ids': '16179.0', 'daily_avg_ip_addresses': '8935.0', 'daily_avg_wifi_bssids': '0.0', 'daily_avg_wifi_ssids': '0.0', 'total_records': '69209204'}, {'country': 'CU', 'daily_avg_advertising_ids': '224.0', 'daily_avg_ip_addresses': '447.0', 'daily_avg_wifi_bssids': '0.0', 'daily_avg_wifi_ssids': '0.0', 'total_records': '3149236'}, {'country': 'CV', 'daily_avg_advertising_ids': '75.0', 'daily_avg_ip_addresses': '79.0', 'daily_avg_wifi_bssids': '0.0', 'daily_avg_wifi_ssids': '0.0', 'total_records': '1669704'}, {'country': 'CW', 'daily_avg_advertising_ids': '45.0', 'daily_avg_ip_addresses': '50.0', 'daily_avg_wifi_bssids': '0.0', 'daily_avg_wifi_ssids': '0.0', 'total_records': '87641'}, {'country': 'CX', 'daily_avg_advertising_ids': '3.0', 'daily_avg_ip_addresses': '4.0', 'daily_avg_wifi_bssids': '0.0', 'daily_avg_wifi_ssids': '0.0', 'total_records': '723'}, {'country': 'DJ', 'daily_avg_advertising_ids': '105.0', 'daily_avg_ip_addresses': '155.0', 'daily_avg_wifi_bssids': '0.0', 'daily_avg_wifi_ssids': '0.0', 'total_records': '1171886'}, {'country': 'DM', 'daily_avg_advertising_ids': '6.0', 'daily_avg_ip_addresses': '9.0', 'daily_avg_wifi_bssids': '0.0', 'daily_avg_wifi_ssids': '0.0', 'total_records': '38967'}, {'country': 'DO', 'daily_avg_advertising_ids': '5440.0', 'daily_avg_ip_addresses': '5074.0', 'daily_avg_wifi_bssids': '0.0', 'daily_avg_wifi_ssids': '0.0', 'total_records': '13125733'}, {'country': 'DZ', 'daily_avg_advertising_ids': '76806.0', 'daily_avg_ip_addresses': '77459.0', 'daily_avg_wifi_bssids': '0.0', 'daily_avg_wifi_ssids': '0.0', 'total_records': '705595614'}, {'country': 'EC', 'daily_avg_advertising_ids': '51308.0', 'daily_avg_ip_addresses': '20658.0', 'daily_avg_wifi_bssids': '0.0', 'daily_avg_wifi_ssids': '0.0', 'total_records': '215826724'}, {'country': 'EG', 'daily_avg_advertising_ids': '213775.0', 'daily_avg_ip_addresses': '152085.0', 'daily_avg_wifi_bssids': '0.0', 'daily_avg_wifi_ssids': '0.0', 'total_records': '1474101593'}, {'country': 'EH', 'daily_avg_advertising_ids': '367.0', 'daily_avg_ip_addresses': '411.0', 'daily_avg_wifi_bssids': '0.0', 'daily_avg_wifi_ssids': '0.0', 'total_records': '2714970'}, {'country': 'ER', 'daily_avg_advertising_ids': '9.0', 'daily_avg_ip_addresses': '10.0', 'daily_avg_wifi_bssids': '0.0', 'daily_avg_wifi_ssids': '0.0', 'total_records': '21617'}, {'country': 'ET', 'daily_avg_advertising_ids': '1627.0', 'daily_avg_ip_addresses': '1639.0', 'daily_avg_wifi_bssids': '0.0', 'daily_avg_wifi_ssids': '0.0', 'total_records': '9797800'}, {'country': 'FJ', 'daily_avg_advertising_ids': '45.0', 'daily_avg_ip_addresses': '77.0', 'daily_avg_wifi_bssids': '0.0', 'daily_avg_wifi_ssids': '0.0', 'total_records': '700769'}, {'country': 'FK', 'daily_avg_advertising_ids': '1.0', 'daily_avg_ip_addresses': '1.0', 'daily_avg_wifi_bssids': '0.0', 'daily_avg_wifi_ssids': '0.0', 'total_records': '1171'}, {'country': 'FM', 'daily_avg_advertising_ids': '17.0', 'daily_avg_ip_addresses': '13.0', 'daily_avg_wifi_bssids': '0.0', 'daily_avg_wifi_ssids': '0.0', 'total_records': '14288'}, {'country': 'FO', 'daily_avg_advertising_ids': '6.0', 'daily_avg_ip_addresses': '7.0', 'daily_avg_wifi_bssids': '0.0', 'daily_avg_wifi_ssids': '0.0', 'total_records': '4740'}, {'country': 'GA', 'daily_avg_advertising_ids': '106.0', 'daily_avg_ip_addresses': '167.0', 'daily_avg_wifi_bssids': '0.0', 'daily_avg_wifi_ssids': '0.0', 'total_records': '1220669'}, {'country': 'GD', 'daily_avg_advertising_ids': '58.0', 'daily_avg_ip_addresses': '52.0', 'daily_avg_wifi_bssids': '0.0', 'daily_avg_wifi_ssids': '0.0', 'total_records': '89887'}, {'country': 'GE', 'daily_avg_advertising_ids': '735.0', 'daily_avg_ip_addresses': '1099.0', 'daily_avg_wifi_bssids': '0.0', 'daily_avg_wifi_ssids': '0.0', 'total_records': '13274206'}, {'country': 'GF', 'daily_avg_advertising_ids': '6.0', 'daily_avg_ip_addresses': '9.0', 'daily_avg_wifi_bssids': '0.0', 'daily_avg_wifi_ssids': '0.0', 'total_records': '1160'}, {'country': 'GG', 'daily_avg_advertising_ids': '131.0', 'daily_avg_ip_addresses': '80.0', 'daily_avg_wifi_bssids': '0.0', 'daily_avg_wifi_ssids': '0.0', 'total_records': '1041649'}, {'country': 'GH', 'daily_avg_advertising_ids': '593.0', 'daily_avg_ip_addresses': '1118.0', 'daily_avg_wifi_bssids': '0.0', 'daily_avg_wifi_ssids': '0.0', 'total_records': '12333764'}, {'country': 'GI', 'daily_avg_advertising_ids': '143.0', 'daily_avg_ip_addresses': '100.0', 'daily_avg_wifi_bssids': '0.0', 'daily_avg_wifi_ssids': '0.0', 'total_records': '502980'}, {'country': 'GL', 'daily_avg_advertising_ids': '19.0', 'daily_avg_ip_addresses': '9.0', 'daily_avg_wifi_bssids': '0.0', 'daily_avg_wifi_ssids': '0.0', 'total_records': '57172'}, {'country': 'GM', 'daily_avg_advertising_ids': '83.0', 'daily_avg_ip_addresses': '135.0', 'daily_avg_wifi_bssids': '0.0', 'daily_avg_wifi_ssids': '0.0', 'total_records': '819680'}, {'country': 'GN', 'daily_avg_advertising_ids': '196.0', 'daily_avg_ip_addresses': '318.0', 'daily_avg_wifi_bssids': '0.0', 'daily_avg_wifi_ssids': '0.0', 'total_records': '3562842'}, {'country': 'GP', 'daily_avg_advertising_ids': '2.0', 'daily_avg_ip_addresses': '1.0', 'daily_avg_wifi_bssids': '0.0', 'daily_avg_wifi_ssids': '0.0', 'total_records': '294'}, {'country': 'GQ', 'daily_avg_advertising_ids': '22.0', 'daily_avg_ip_addresses': '32.0', 'daily_avg_wifi_bssids': '0.0', 'daily_avg_wifi_ssids': '0.0', 'total_records': '72406'}, {'country': 'GR', 'daily_avg_advertising_ids': '298.0', 'daily_avg_ip_addresses': '361.0', 'daily_avg_wifi_bssids': '0.0', 'daily_avg_wifi_ssids': '0.0', 'total_records': '795468'}, {'country': 'GS', 'daily_avg_advertising_ids': '1.0', 'daily_avg_ip_addresses': '1.0', 'daily_avg_wifi_bssids': '0.0', 'daily_avg_wifi_ssids': '0.0', 'total_records': '160'}, {'country': 'GT', 'daily_avg_advertising_ids': '21726.0', 'daily_avg_ip_addresses': '8367.0', 'daily_avg_wifi_bssids': '0.0', 'daily_avg_wifi_ssids': '0.0', 'total_records': '73549323'}, {'country': 'GU', 'daily_avg_advertising_ids': '782.0', 'daily_avg_ip_addresses': '468.0', 'daily_avg_wifi_bssids': '0.0', 'daily_avg_wifi_ssids': '0.0', 'total_records': '4026139'}, {'country': 'GW', 'daily_avg_advertising_ids': '20.0', 'daily_avg_ip_addresses': '26.0', 'daily_avg_wifi_bssids': '0.0', 'daily_avg_wifi_ssids': '0.0', 'total_records': '120558'}, {'country': 'GY', 'daily_avg_advertising_ids': '628.0', 'daily_avg_ip_addresses': '259.0', 'daily_avg_wifi_bssids': '0.0', 'daily_avg_wifi_ssids': '0.0', 'total_records': '4287456'}, {'country': 'HK', 'daily_avg_advertising_ids': '49810.0', 'daily_avg_ip_addresses': '26862.0', 'daily_avg_wifi_bssids': '0.0', 'daily_avg_wifi_ssids': '0.0', 'total_records': '713152717'}, {'country': 'HM', 'daily_avg_advertising_ids': '1.0', 'daily_avg_ip_addresses': '1.0', 'daily_avg_wifi_bssids': '0.0', 'daily_avg_wifi_ssids': '0.0', 'total_records': '85'}, {'country': 'HN', 'daily_avg_advertising_ids': '3902.0', 'daily_avg_ip_addresses': '1461.0', 'daily_avg_wifi_bssids': '0.0', 'daily_avg_wifi_ssids': '0.0', 'total_records': '40475133'}, {'country': 'HT', 'daily_avg_advertising_ids': '272.0', 'daily_avg_ip_addresses': '518.0', 'daily_avg_wifi_bssids': '0.0', 'daily_avg_wifi_ssids': '0.0', 'total_records': '1805373'}, {'country': 'ID', 'daily_avg_advertising_ids': '2612451.0', 'daily_avg_ip_addresses': '568327.0', 'daily_avg_wifi_bssids': '0.0', 'daily_avg_wifi_ssids': '0.0', 'total_records': '29949471482'}, {'country': 'IL', 'daily_avg_advertising_ids': '63897.0', 'daily_avg_ip_addresses': '69948.0', 'daily_avg_wifi_bssids': '0.0', 'daily_avg_wifi_ssids': '0.0', 'total_records': '531814985'}, {'country': 'IM', 'daily_avg_advertising_ids': '453.0', 'daily_avg_ip_addresses': '203.0', 'daily_avg_wifi_bssids': '0.0', 'daily_avg_wifi_ssids': '0.0', 'total_records': '3212787'}, {'country': 'IN', 'daily_avg_advertising_ids': '6029909.0', 'daily_avg_ip_addresses': '2105212.0', 'daily_avg_wifi_bssids': '0.0', 'daily_avg_wifi_ssids': '0.0', 'total_records': '69742630434'}, {'country': 'IO', 'daily_avg_advertising_ids': '1.0', 'daily_avg_ip_addresses': '2.0', 'daily_avg_wifi_bssids': '0.0', 'daily_avg_wifi_ssids': '0.0', 'total_records': '2410'}, {'country': 'IQ', 'daily_avg_advertising_ids': '28108.0', 'daily_avg_ip_addresses': '17746.0', 'daily_avg_wifi_bssids': '0.0', 'daily_avg_wifi_ssids': '0.0', 'total_records': '213787921'}, {'country': 'IR', 'daily_avg_advertising_ids': '11788.0', 'daily_avg_ip_addresses': '21092.0', 'daily_avg_wifi_bssids': '0.0', 'daily_avg_wifi_ssids': '0.0', 'total_records': '128922087'}, {'country': 'IS', 'daily_avg_advertising_ids': '44.0', 'daily_avg_ip_addresses': '46.0', 'daily_avg_wifi_bssids': '0.0', 'daily_avg_wifi_ssids': '0.0', 'total_records': '114520'}, {'country': 'JE', 'daily_avg_advertising_ids': '315.0', 'daily_avg_ip_addresses': '216.0', 'daily_avg_wifi_bssids': '0.0', 'daily_avg_wifi_ssids': '0.0', 'total_records': '2236133'}, {'country': 'JM', 'daily_avg_advertising_ids': '573.0', 'daily_avg_ip_addresses': '643.0', 'daily_avg_wifi_bssids': '0.0', 'daily_avg_wifi_ssids': '0.0', 'total_records': '6052766'}, {'country': 'JO', 'daily_avg_advertising_ids': '20116.0', 'daily_avg_ip_addresses': '14234.0', 'daily_avg_wifi_bssids': '0.0', 'daily_avg_wifi_ssids': '0.0', 'total_records': '35616538'}, {'country': 'JP', 'daily_avg_advertising_ids': '5353769.0', 'daily_avg_ip_addresses': '2991788.0', 'daily_avg_wifi_bssids': '0.0', 'daily_avg_wifi_ssids': '0.0', 'total_records': '263048872884'}, {'country': 'KE', 'daily_avg_advertising_ids': '14915.0', 'daily_avg_ip_addresses': '10930.0', 'daily_avg_wifi_bssids': '0.0', 'daily_avg_wifi_ssids': '0.0', 'total_records': '24237195'}, {'country': 'KG', 'daily_avg_advertising_ids': '829.0', 'daily_avg_ip_addresses': '1884.0', 'daily_avg_wifi_bssids': '0.0', 'daily_avg_wifi_ssids': '0.0', 'total_records': '30309588'}, {'country': 'KH', 'daily_avg_advertising_ids': '7068.0', 'daily_avg_ip_addresses': '7266.0', 'daily_avg_wifi_bssids': '0.0', 'daily_avg_wifi_ssids': '0.0', 'total_records': '262679867'}, {'country': 'KI', 'daily_avg_advertising_ids': '2.0', 'daily_avg_ip_addresses': '3.0', 'daily_avg_wifi_bssids': '0.0', 'daily_avg_wifi_ssids': '0.0', 'total_records': '8036'}, {'country': 'KM', 'daily_avg_advertising_ids': '17.0', 'daily_avg_ip_addresses': '19.0', 'daily_avg_wifi_bssids': '0.0', 'daily_avg_wifi_ssids': '0.0', 'total_records': '38285'}, {'country': 'KN', 'daily_avg_advertising_ids': '34.0', 'daily_avg_ip_addresses': '40.0', 'daily_avg_wifi_bssids': '0.0', 'daily_avg_wifi_ssids': '0.0', 'total_records': '233523'}, {'country': 'KP', 'daily_avg_advertising_ids': '96.0', 'daily_avg_ip_addresses': '134.0', 'daily_avg_wifi_bssids': '0.0', 'daily_avg_wifi_ssids': '0.0', 'total_records': '1091207'}, {'country': 'KR', 'daily_avg_advertising_ids': '1102933.0', 'daily_avg_ip_addresses': '609767.0', 'daily_avg_wifi_bssids': '0.0', 'daily_avg_wifi_ssids': '0.0', 'total_records': '52490341190'}, {'country': 'KW', 'daily_avg_advertising_ids': '19820.0', 'daily_avg_ip_addresses': '16867.0', 'daily_avg_wifi_bssids': '0.0', 'daily_avg_wifi_ssids': '0.0', 'total_records': '80809242'}, {'country': 'KY', 'daily_avg_advertising_ids': '29.0', 'daily_avg_ip_addresses': '35.0', 'daily_avg_wifi_bssids': '0.0', 'daily_avg_wifi_ssids': '0.0', 'total_records': '126740'}, {'country': 'KZ', 'daily_avg_advertising_ids': '8635.0', 'daily_avg_ip_addresses': '10061.0', 'daily_avg_wifi_bssids': '0.0', 'daily_avg_wifi_ssids': '0.0', 'total_records': '78954310'}, {'country': 'LA', 'daily_avg_advertising_ids': '3032.0', 'daily_avg_ip_addresses': '3893.0', 'daily_avg_wifi_bssids': '0.0', 'daily_avg_wifi_ssids': '0.0', 'total_records': '44062475'}, {'country': 'LB', 'daily_avg_advertising_ids': '5247.0', 'daily_avg_ip_addresses': '2839.0', 'daily_avg_wifi_bssids': '0.0', 'daily_avg_wifi_ssids': '0.0', 'total_records': '13710866'}, {'country': 'LC', 'daily_avg_advertising_ids': '59.0', 'daily_avg_ip_addresses': '50.0', 'daily_avg_wifi_bssids': '0.0', 'daily_avg_wifi_ssids': '0.0', 'total_records': '129949'}, {'country': 'LI', 'daily_avg_advertising_ids': '50.0', 'daily_avg_ip_addresses': '31.0', 'daily_avg_wifi_bssids': '0.0', 'daily_avg_wifi_ssids': '0.0', 'total_records': '97828'}, {'country': 'LK', 'daily_avg_advertising_ids': '24764.0', 'daily_avg_ip_addresses': '16414.0', 'daily_avg_wifi_bssids': '0.0', 'daily_avg_wifi_ssids': '0.0', 'total_records': '65203061'}, {'country': 'LR', 'daily_avg_advertising_ids': '57.0', 'daily_avg_ip_addresses': '98.0', 'daily_avg_wifi_bssids': '0.0', 'daily_avg_wifi_ssids': '0.0', 'total_records': '570291'}, {'country': 'LS', 'daily_avg_advertising_ids': '58.0', 'daily_avg_ip_addresses': '101.0', 'daily_avg_wifi_bssids': '0.0', 'daily_avg_wifi_ssids': '0.0', 'total_records': '162709'}, {'country': 'LY', 'daily_avg_advertising_ids': '9133.0', 'daily_avg_ip_addresses': '8741.0', 'daily_avg_wifi_bssids': '0.0', 'daily_avg_wifi_ssids': '0.0', 'total_records': '71387665'}, {'country': 'MA', 'daily_avg_advertising_ids': '23379.0', 'daily_avg_ip_addresses': '14782.0', 'daily_avg_wifi_bssids': '0.0', 'daily_avg_wifi_ssids': '0.0', 'total_records': '233368278'}, {'country': 'MC', 'daily_avg_advertising_ids': '665.0', 'daily_avg_ip_addresses': '647.0', 'daily_avg_wifi_bssids': '0.0', 'daily_avg_wifi_ssids': '0.0', 'total_records': '2442402'}, {'country': 'MD', 'daily_avg_advertising_ids': '595.0', 'daily_avg_ip_addresses': '1040.0', 'daily_avg_wifi_bssids': '0.0', 'daily_avg_wifi_ssids': '0.0', 'total_records': '15974554'}, {'country': 'ME', 'daily_avg_advertising_ids': '32.0', 'daily_avg_ip_addresses': '41.0', 'daily_avg_wifi_bssids': '0.0', 'daily_avg_wifi_ssids': '0.0', 'total_records': '214789'}, {'country': 'MF', 'daily_avg_advertising_ids': '12.0', 'daily_avg_ip_addresses': '14.0', 'daily_avg_wifi_bssids': '0.0', 'daily_avg_wifi_ssids': '0.0', 'total_records': '37108'}, {'country': 'MG', 'daily_avg_advertising_ids': '39.0', 'daily_avg_ip_addresses': '71.0', 'daily_avg_wifi_bssids': '0.0', 'daily_avg_wifi_ssids': '0.0', 'total_records': '389282'}, {'country': 'MH', 'daily_avg_advertising_ids': '4.0', 'daily_avg_ip_addresses': '8.0', 'daily_avg_wifi_bssids': '0.0', 'daily_avg_wifi_ssids': '0.0', 'total_records': '46484'}, {'country': 'MK', 'daily_avg_advertising_ids': '88.0', 'daily_avg_ip_addresses': '120.0', 'daily_avg_wifi_bssids': '0.0', 'daily_avg_wifi_ssids': '0.0', 'total_records': '751850'}, {'country': 'ML', 'daily_avg_advertising_ids': '409.0', 'daily_avg_ip_addresses': '588.0', 'daily_avg_wifi_bssids': '0.0', 'daily_avg_wifi_ssids': '0.0', 'total_records': '7328462'}, {'country': 'MM', 'daily_avg_advertising_ids': '2834.0', 'daily_avg_ip_addresses': '3660.0', 'daily_avg_wifi_bssids': '0.0', 'daily_avg_wifi_ssids': '0.0', 'total_records': '25626285'}, {'country': 'MN', 'daily_avg_advertising_ids': '146.0', 'daily_avg_ip_addresses': '255.0', 'daily_avg_wifi_bssids': '0.0', 'daily_avg_wifi_ssids': '0.0', 'total_records': '4174948'}, {'country': 'MO', 'daily_avg_advertising_ids': '212.0', 'daily_avg_ip_addresses': '292.0', 'daily_avg_wifi_bssids': '0.0', 'daily_avg_wifi_ssids': '0.0', 'total_records': '1800065'}, {'country': 'MP', 'daily_avg_advertising_ids': '227.0', 'daily_avg_ip_addresses': '155.0', 'daily_avg_wifi_bssids': '0.0', 'daily_avg_wifi_ssids': '0.0', 'total_records': '1379272'}, {'country': 'MQ', 'daily_avg_advertising_ids': '3.0', 'daily_avg_ip_addresses': '7.0', 'daily_avg_wifi_bssids': '0.0', 'daily_avg_wifi_ssids': '0.0', 'total_records': '3533'}, {'country': 'MR', 'daily_avg_advertising_ids': '701.0', 'daily_avg_ip_addresses': '1165.0', 'daily_avg_wifi_bssids': '0.0', 'daily_avg_wifi_ssids': '0.0', 'total_records': '4437570'}, {'country': 'MS', 'daily_avg_advertising_ids': '1.0', 'daily_avg_ip_addresses': '1.0', 'daily_avg_wifi_bssids': '0.0', 'daily_avg_wifi_ssids': '0.0', 'total_records': '1929'}, {'country': 'MU', 'daily_avg_advertising_ids': '406.0', 'daily_avg_ip_addresses': '528.0', 'daily_avg_wifi_bssids': '0.0', 'daily_avg_wifi_ssids': '0.0', 'total_records': '2714547'}, {'country': 'MV', 'daily_avg_advertising_ids': '403.0', 'daily_avg_ip_addresses': '535.0', 'daily_avg_wifi_bssids': '0.0', 'daily_avg_wifi_ssids': '0.0', 'total_records': '1307011'}, {'country': 'MW', 'daily_avg_advertising_ids': '56.0', 'daily_avg_ip_addresses': '75.0', 'daily_avg_wifi_bssids': '0.0', 'daily_avg_wifi_ssids': '0.0', 'total_records': '273806'}, {'country': 'MX', 'daily_avg_advertising_ids': '5465420.0', 'daily_avg_ip_addresses': '1379868.0', 'daily_avg_wifi_bssids': '0.0', 'daily_avg_wifi_ssids': '0.0', 'total_records': '88023217673'}, {'country': 'MY', 'daily_avg_advertising_ids': '198349.0', 'daily_avg_ip_addresses': '71962.0', 'daily_avg_wifi_bssids': '0.0', 'daily_avg_wifi_ssids': '0.0', 'total_records': '1664397932'}, {'country': 'MZ', 'daily_avg_advertising_ids': '93.0', 'daily_avg_ip_addresses': '156.0', 'daily_avg_wifi_bssids': '0.0', 'daily_avg_wifi_ssids': '0.0', 'total_records': '815785'}, {'country': 'NA', 'daily_avg_advertising_ids': '77.0', 'daily_avg_ip_addresses': '95.0', 'daily_avg_wifi_bssids': '0.0', 'daily_avg_wifi_ssids': '0.0', 'total_records': '205301'}, {'country': 'NC', 'daily_avg_advertising_ids': '12.0', 'daily_avg_ip_addresses': '13.0', 'daily_avg_wifi_bssids': '0.0', 'daily_avg_wifi_ssids': '0.0', 'total_records': '26633'}, {'country': 'NE', 'daily_avg_advertising_ids': '137.0', 'daily_avg_ip_addresses': '247.0', 'daily_avg_wifi_bssids': '0.0', 'daily_avg_wifi_ssids': '0.0', 'total_records': '1482837'}, {'country': 'NF', 'daily_avg_advertising_ids': '3.0', 'daily_avg_ip_addresses': '2.0', 'daily_avg_wifi_bssids': '0.0', 'daily_avg_wifi_ssids': '0.0', 'total_records': '1944'}, {'country': 'NG', 'daily_avg_advertising_ids': '14295.0', 'daily_avg_ip_addresses': '6667.0', 'daily_avg_wifi_bssids': '0.0', 'daily_avg_wifi_ssids': '0.0', 'total_records': '21767102'}, {'country': 'NI', 'daily_avg_advertising_ids': '2280.0', 'daily_avg_ip_addresses': '843.0', 'daily_avg_wifi_bssids': '0.0', 'daily_avg_wifi_ssids': '0.0', 'total_records': '27447843'}, {'country': 'NP', 'daily_avg_advertising_ids': '10391.0', 'daily_avg_ip_addresses': '9079.0', 'daily_avg_wifi_bssids': '0.0', 'daily_avg_wifi_ssids': '0.0', 'total_records': '75129056'}, {'country': 'NR', 'daily_avg_advertising_ids': '3.0', 'daily_avg_ip_addresses': '4.0', 'daily_avg_wifi_bssids': '0.0', 'daily_avg_wifi_ssids': '0.0', 'total_records': '18709'}, {'country': 'NU', 'daily_avg_advertising_ids': '1.0', 'daily_avg_ip_addresses': '1.0', 'daily_avg_wifi_bssids': '0.0', 'daily_avg_wifi_ssids': '0.0', 'total_records': '62'}, {'country': 'NZ', 'daily_avg_advertising_ids': '79770.0', 'daily_avg_ip_addresses': '44742.0', 'daily_avg_wifi_bssids': '0.0', 'daily_avg_wifi_ssids': '0.0', 'total_records': '451932006'}, {'country': 'OM', 'daily_avg_advertising_ids': '13065.0', 'daily_avg_ip_addresses': '9766.0', 'daily_avg_wifi_bssids': '0.0', 'daily_avg_wifi_ssids': '0.0', 'total_records': '32133401'}, {'country': 'PA', 'daily_avg_advertising_ids': '7912.0', 'daily_avg_ip_addresses': '5884.0', 'daily_avg_wifi_bssids': '0.0', 'daily_avg_wifi_ssids': '0.0', 'total_records': '40787193'}, {'country': 'PE', 'daily_avg_advertising_ids': '168950.0', 'daily_avg_ip_addresses': '56791.0', 'daily_avg_wifi_bssids': '0.0', 'daily_avg_wifi_ssids': '0.0', 'total_records': '1178609525'}, {'country': 'PF', 'daily_avg_advertising_ids': '15.0', 'daily_avg_ip_addresses': '16.0', 'daily_avg_wifi_bssids': '0.0', 'daily_avg_wifi_ssids': '0.0', 'total_records': '44363'}, {'country': 'PG', 'daily_avg_advertising_ids': '42.0', 'daily_avg_ip_addresses': '58.0', 'daily_avg_wifi_bssids': '0.0', 'daily_avg_wifi_ssids': '0.0', 'total_records': '240416'}, {'country': 'PH', 'daily_avg_advertising_ids': '432156.0', 'daily_avg_ip_addresses': '146187.0', 'daily_avg_wifi_bssids': '0.0', 'daily_avg_wifi_ssids': '0.0', 'total_records': '5073820810'}, {'country': 'PK', 'daily_avg_advertising_ids': '92123.0', 'daily_avg_ip_addresses': '40048.0', 'daily_avg_wifi_bssids': '0.0', 'daily_avg_wifi_ssids': '0.0', 'total_records': '363818927'}, {'country': 'PM', 'daily_avg_advertising_ids': '1.0', 'daily_avg_ip_addresses': '1.0', 'daily_avg_wifi_bssids': '0.0', 'daily_avg_wifi_ssids': '0.0', 'total_records': '624'}, {'country': 'PN', 'daily_avg_advertising_ids': '1.0', 'daily_avg_ip_addresses': '1.0', 'daily_avg_wifi_bssids': '0.0', 'daily_avg_wifi_ssids': '0.0', 'total_records': '260'}, {'country': 'PR', 'daily_avg_advertising_ids': '25931.0', 'daily_avg_ip_addresses': '8171.0', 'daily_avg_wifi_bssids': '0.0', 'daily_avg_wifi_ssids': '0.0', 'total_records': '159616608'}, {'country': 'PS', 'daily_avg_advertising_ids': '15655.0', 'daily_avg_ip_addresses': '14346.0', 'daily_avg_wifi_bssids': '0.0', 'daily_avg_wifi_ssids': '0.0', 'total_records': '61566422'}, {'country': 'PW', 'daily_avg_advertising_ids': '8.0', 'daily_avg_ip_addresses': '8.0', 'daily_avg_wifi_bssids': '0.0', 'daily_avg_wifi_ssids': '0.0', 'total_records': '40141'}, {'country': 'PY', 'daily_avg_advertising_ids': '1363.0', 'daily_avg_ip_addresses': '896.0', 'daily_avg_wifi_bssids': '0.0', 'daily_avg_wifi_ssids': '0.0', 'total_records': '6667001'}, {'country': 'QA', 'daily_avg_advertising_ids': '21289.0', 'daily_avg_ip_addresses': '17767.0', 'daily_avg_wifi_bssids': '0.0', 'daily_avg_wifi_ssids': '0.0', 'total_records': '119225223'}, {'country': 'RE', 'daily_avg_advertising_ids': '11.0', 'daily_avg_ip_addresses': '15.0', 'daily_avg_wifi_bssids': '0.0', 'daily_avg_wifi_ssids': '0.0', 'total_records': '6578'}, {'country': 'RS', 'daily_avg_advertising_ids': '298.0', 'daily_avg_ip_addresses': '449.0', 'daily_avg_wifi_bssids': '0.0', 'daily_avg_wifi_ssids': '0.0', 'total_records': '2812707'}, {'country': 'RU', 'daily_avg_advertising_ids': '496020.0', 'daily_avg_ip_addresses': '301041.0', 'daily_avg_wifi_bssids': '0.0', 'daily_avg_wifi_ssids': '0.0', 'total_records': '27015712306'}, {'country': 'RW', 'daily_avg_advertising_ids': '210.0', 'daily_avg_ip_addresses': '229.0', 'daily_avg_wifi_bssids': '0.0', 'daily_avg_wifi_ssids': '0.0', 'total_records': '643218'}, {'country': 'SA', 'daily_avg_advertising_ids': '551686.0', 'daily_avg_ip_addresses': '405212.0', 'daily_avg_wifi_bssids': '0.0', 'daily_avg_wifi_ssids': '0.0', 'total_records': '1974808432'}, {'country': 'SB', 'daily_avg_advertising_ids': '4.0', 'daily_avg_ip_addresses': '6.0', 'daily_avg_wifi_bssids': '0.0', 'daily_avg_wifi_ssids': '0.0', 'total_records': '8340'}, {'country': 'SC', 'daily_avg_advertising_ids': '211.0', 'daily_avg_ip_addresses': '339.0', 'daily_avg_wifi_bssids': '0.0', 'daily_avg_wifi_ssids': '0.0', 'total_records': '386502'}, {'country': 'SD', 'daily_avg_advertising_ids': '5108.0', 'daily_avg_ip_addresses': '7957.0', 'daily_avg_wifi_bssids': '0.0', 'daily_avg_wifi_ssids': '0.0', 'total_records': '25583504'}, {'country': 'SG', 'daily_avg_advertising_ids': '185058.0', 'daily_avg_ip_addresses': '26302.0', 'daily_avg_wifi_bssids': '0.0', 'daily_avg_wifi_ssids': '0.0', 'total_records': '2134244466'}, {'country': 'SH', 'daily_avg_advertising_ids': '2.0', 'daily_avg_ip_addresses': '1.0', 'daily_avg_wifi_bssids': '0.0', 'daily_avg_wifi_ssids': '0.0', 'total_records': '208'}, {'country': 'SJ', 'daily_avg_advertising_ids': '1.0', 'daily_avg_ip_addresses': '1.0', 'daily_avg_wifi_bssids': '0.0', 'daily_avg_wifi_ssids': '0.0', 'total_records': '11'}, {'country': 'SL', 'daily_avg_advertising_ids': '59.0', 'daily_avg_ip_addresses': '112.0', 'daily_avg_wifi_bssids': '0.0', 'daily_avg_wifi_ssids': '0.0', 'total_records': '681203'}, {'country': 'SM', 'daily_avg_advertising_ids': '245.0', 'daily_avg_ip_addresses': '129.0', 'daily_avg_wifi_bssids': '0.0', 'daily_avg_wifi_ssids': '0.0', 'total_records': '606772'}, {'country': 'SN', 'daily_avg_advertising_ids': '6234.0', 'daily_avg_ip_addresses': '3922.0', 'daily_avg_wifi_bssids': '0.0', 'daily_avg_wifi_ssids': '0.0', 'total_records': '24744472'}, {'country': 'SO', 'daily_avg_advertising_ids': '1012.0', 'daily_avg_ip_addresses': '1343.0', 'daily_avg_wifi_bssids': '0.0', 'daily_avg_wifi_ssids': '0.0', 'total_records': '6703508'}, {'country': 'SR', 'daily_avg_advertising_ids': '178.0', 'daily_avg_ip_addresses': '193.0', 'daily_avg_wifi_bssids': '0.0', 'daily_avg_wifi_ssids': '0.0', 'total_records': '2459390'}, {'country': 'SS', 'daily_avg_advertising_ids': '65.0', 'daily_avg_ip_addresses': '100.0', 'daily_avg_wifi_bssids': '0.0', 'daily_avg_wifi_ssids': '0.0', 'total_records': '800193'}, {'country': 'ST', 'daily_avg_advertising_ids': '4.0', 'daily_avg_ip_addresses': '4.0', 'daily_avg_wifi_bssids': '0.0', 'daily_avg_wifi_ssids': '0.0', 'total_records': '17894'}, {'country': 'SV', 'daily_avg_advertising_ids': '2426.0', 'daily_avg_ip_addresses': '1250.0', 'daily_avg_wifi_bssids': '0.0', 'daily_avg_wifi_ssids': '0.0', 'total_records': '33710137'}, {'country': 'SX', 'daily_avg_advertising_ids': '14.0', 'daily_avg_ip_addresses': '17.0', 'daily_avg_wifi_bssids': '0.0', 'daily_avg_wifi_ssids': '0.0', 'total_records': '41895'}, {'country': 'SY', 'daily_avg_advertising_ids': '9934.0', 'daily_avg_ip_addresses': '11569.0', 'daily_avg_wifi_bssids': '0.0', 'daily_avg_wifi_ssids': '0.0', 'total_records': '93617806'}, {'country': 'SZ', 'daily_avg_advertising_ids': '60.0', 'daily_avg_ip_addresses': '86.0', 'daily_avg_wifi_bssids': '0.0', 'daily_avg_wifi_ssids': '0.0', 'total_records': '148477'}, {'country': 'TC', 'daily_avg_advertising_ids': '29.0', 'daily_avg_ip_addresses': '38.0', 'daily_avg_wifi_bssids': '0.0', 'daily_avg_wifi_ssids': '0.0', 'total_records': '122184'}, {'country': 'TD', 'daily_avg_advertising_ids': '327.0', 'daily_avg_ip_addresses': '479.0', 'daily_avg_wifi_bssids': '0.0', 'daily_avg_wifi_ssids': '0.0', 'total_records': '405616'}, {'country': 'TF', 'daily_avg_advertising_ids': '1.0', 'daily_avg_ip_addresses': '2.0', 'daily_avg_wifi_bssids': '0.0', 'daily_avg_wifi_ssids': '0.0', 'total_records': '384'}, {'country': 'TG', 'daily_avg_advertising_ids': '247.0', 'daily_avg_ip_addresses': '340.0', 'daily_avg_wifi_bssids': '0.0', 'daily_avg_wifi_ssids': '0.0', 'total_records': '3541006'}, {'country': 'TH', 'daily_avg_advertising_ids': '396172.0', 'daily_avg_ip_addresses': '235109.0', 'daily_avg_wifi_bssids': '0.0', 'daily_avg_wifi_ssids': '0.0', 'total_records': '8669122078'}, {'country': 'TJ', 'daily_avg_advertising_ids': '213.0', 'daily_avg_ip_addresses': '440.0', 'daily_avg_wifi_bssids': '0.0', 'daily_avg_wifi_ssids': '0.0', 'total_records': '5250689'}, {'country': 'TK', 'daily_avg_advertising_ids': '1.0', 'daily_avg_ip_addresses': '1.0', 'daily_avg_wifi_bssids': '0.0', 'daily_avg_wifi_ssids': '0.0', 'total_records': '2'}, {'country': 'TL', 'daily_avg_advertising_ids': '321.0', 'daily_avg_ip_addresses': '544.0', 'daily_avg_wifi_bssids': '0.0', 'daily_avg_wifi_ssids': '0.0', 'total_records': '1555175'}, {'country': 'TM', 'daily_avg_advertising_ids': '50.0', 'daily_avg_ip_addresses': '32.0', 'daily_avg_wifi_bssids': '0.0', 'daily_avg_wifi_ssids': '0.0', 'total_records': '228772'}, {'country': 'TN', 'daily_avg_advertising_ids': '11601.0', 'daily_avg_ip_addresses': '10534.0', 'daily_avg_wifi_bssids': '0.0', 'daily_avg_wifi_ssids': '0.0', 'total_records': '74694420'}, {'country': 'TO', 'daily_avg_advertising_ids': '5.0', 'daily_avg_ip_addresses': '6.0', 'daily_avg_wifi_bssids': '0.0', 'daily_avg_wifi_ssids': '0.0', 'total_records': '49691'}, {'country': 'TR', 'daily_avg_advertising_ids': '176635.0', 'daily_avg_ip_addresses': '142936.0', 'daily_avg_wifi_bssids': '0.0', 'daily_avg_wifi_ssids': '0.0', 'total_records': '529055172'}, {'country': 'TT', 'daily_avg_advertising_ids': '218.0', 'daily_avg_ip_addresses': '288.0', 'daily_avg_wifi_bssids': '0.0', 'daily_avg_wifi_ssids': '0.0', 'total_records': '3723625'}, {'country': 'TV', 'daily_avg_advertising_ids': '1.0', 'daily_avg_ip_addresses': '1.0', 'daily_avg_wifi_bssids': '0.0', 'daily_avg_wifi_ssids': '0.0', 'total_records': '391'}, {'country': 'TW', 'daily_avg_advertising_ids': '355913.0', 'daily_avg_ip_addresses': '220758.0', 'daily_avg_wifi_bssids': '0.0', 'daily_avg_wifi_ssids': '0.0', 'total_records': '19488019954'}, {'country': 'TZ', 'daily_avg_advertising_ids': '1152.0', 'daily_avg_ip_addresses': '943.0', 'daily_avg_wifi_bssids': '0.0', 'daily_avg_wifi_ssids': '0.0', 'total_records': '1336509'}, {'country': 'UA', 'daily_avg_advertising_ids': '84073.0', 'daily_avg_ip_addresses': '79838.0', 'daily_avg_wifi_bssids': '0.0', 'daily_avg_wifi_ssids': '0.0', 'total_records': '729568222'}, {'country': 'UG', 'daily_avg_advertising_ids': '405.0', 'daily_avg_ip_addresses': '570.0', 'daily_avg_wifi_bssids': '0.0', 'daily_avg_wifi_ssids': '0.0', 'total_records': '1310352'}, {'country': 'UM', 'daily_avg_advertising_ids': '4.0', 'daily_avg_ip_addresses': '2.0', 'daily_avg_wifi_bssids': '0.0', 'daily_avg_wifi_ssids': '0.0', 'total_records': '5897'}, {'country': 'UY', 'daily_avg_advertising_ids': '857.0', 'daily_avg_ip_addresses': '1027.0', 'daily_avg_wifi_bssids': '0.0', 'daily_avg_wifi_ssids': '0.0', 'total_records': '10278333'}, {'country': 'UZ', 'daily_avg_advertising_ids': '1060.0', 'daily_avg_ip_addresses': '2280.0', 'daily_avg_wifi_bssids': '0.0', 'daily_avg_wifi_ssids': '0.0', 'total_records': '29556720'}, {'country': 'VA', 'daily_avg_advertising_ids': '4.0', 'daily_avg_ip_addresses': '2.0', 'daily_avg_wifi_bssids': '0.0', 'daily_avg_wifi_ssids': '0.0', 'total_records': '1715'}, {'country': 'VC', 'daily_avg_advertising_ids': '40.0', 'daily_avg_ip_addresses': '30.0', 'daily_avg_wifi_bssids': '0.0', 'daily_avg_wifi_ssids': '0.0', 'total_records': '53870'}, {'country': 'VE', 'daily_avg_advertising_ids': '10594.0', 'daily_avg_ip_addresses': '4732.0', 'daily_avg_wifi_bssids': '0.0', 'daily_avg_wifi_ssids': '0.0', 'total_records': '54974007'}, {'country': 'VG', 'daily_avg_advertising_ids': '29.0', 'daily_avg_ip_addresses': '35.0', 'daily_avg_wifi_bssids': '0.0', 'daily_avg_wifi_ssids': '0.0', 'total_records': '153367'}, {'country': 'VI', 'daily_avg_advertising_ids': '870.0', 'daily_avg_ip_addresses': '520.0', 'daily_avg_wifi_bssids': '0.0', 'daily_avg_wifi_ssids': '0.0', 'total_records': '3871065'}, {'country': 'VN', 'daily_avg_advertising_ids': '662988.0', 'daily_avg_ip_addresses': '549800.0', 'daily_avg_wifi_bssids': '0.0', 'daily_avg_wifi_ssids': '0.0', 'total_records': '28789636838'}, {'country': 'VU', 'daily_avg_advertising_ids': '5.0', 'daily_avg_ip_addresses': '10.0', 'daily_avg_wifi_bssids': '0.0', 'daily_avg_wifi_ssids': '0.0', 'total_records': '17836'}, {'country': 'WF', 'daily_avg_advertising_ids': '3.0', 'daily_avg_ip_addresses': '3.0', 'daily_avg_wifi_bssids': '0.0', 'daily_avg_wifi_ssids': '0.0', 'total_records': '319'}, {'country': 'WS', 'daily_avg_advertising_ids': '11.0', 'daily_avg_ip_addresses': '12.0', 'daily_avg_wifi_bssids': '0.0', 'daily_avg_wifi_ssids': '0.0', 'total_records': '38489'}, {'country': 'XK', 'daily_avg_advertising_ids': '24.0', 'daily_avg_ip_addresses': '63.0', 'daily_avg_wifi_bssids': '0.0', 'daily_avg_wifi_ssids': '0.0', 'total_records': '255335'}, {'country': 'YE', 'daily_avg_advertising_ids': '8338.0', 'daily_avg_ip_addresses': '8302.0', 'daily_avg_wifi_bssids': '0.0', 'daily_avg_wifi_ssids': '0.0', 'total_records': '13382412'}, {'country': 'YT', 'daily_avg_advertising_ids': '4.0', 'daily_avg_ip_addresses': '6.0', 'daily_avg_wifi_bssids': '0.0', 'daily_avg_wifi_ssids': '0.0', 'total_records': '420'}, {'country': 'ZA', 'daily_avg_advertising_ids': '80987.0', 'daily_avg_ip_addresses': '63828.0', 'daily_avg_wifi_bssids': '0.0', 'daily_avg_wifi_ssids': '0.0', 'total_records': '574046163'}, {'country': 'ZM', 'daily_avg_advertising_ids': '92.0', 'daily_avg_ip_addresses': '138.0', 'daily_avg_wifi_bssids': '0.0', 'daily_avg_wifi_ssids': '0.0', 'total_records': '459228'}, {'country': 'ZW', 'daily_avg_advertising_ids': '64.0', 'daily_avg_ip_addresses': '85.0', 'daily_avg_wifi_bssids': '0.0', 'daily_avg_wifi_ssids': '0.0', 'total_records': '411910'}]})"
      ]
     },
     "execution_count": 8,
     "metadata": {},
     "output_type": "execute_result"
    }
   ],
   "source": [
    "# test to get the stats by countrie\n",
    "stats_counts_by_countries_get.sync(\n",
    "        client=client,\n",
    "        from_date=datetime.date.today() - datetime.timedelta(days=366),\n",
    "        to_date=datetime.date.today() - datetime.timedelta(days=2),\n",
    "        wait=True,\n",
    "    )"
   ]
  },
  {
   "cell_type": "code",
   "execution_count": 31,
   "id": "fb56bdba",
   "metadata": {},
   "outputs": [],
   "source": [
    "from bazze.bazze_api_client.api.records import records_get\n",
    "from bazze.bazze_api_client.api.records.records_get import _get_kwargs, sync, sync_detailed, _parse_response"
   ]
  },
  {
   "cell_type": "code",
   "execution_count": 13,
   "id": "e47f95e7",
   "metadata": {},
   "outputs": [
    {
     "data": {
      "text/plain": [
       "Response(status_code=<HTTPStatus.OK: 200>, content=b'{\\n  \"QueryExecutionId\": \"8e8aa4a9-50ff-40f8-a3a6-274eb68f843a\",\\n  \"results\": []\\n}\\n', headers=Headers({'content-type': 'application/json', 'content-length': '99', 'connection': 'keep-alive', 'date': 'Mon, 17 Jul 2023 10:05:36 GMT', 'x-amzn-requestid': 'e795609c-61e6-41d7-9e65-f5cd661c97c2', 'access-control-allow-origin': '*', 'content-encoding': 'gzip', 'x-amzn-remapped-content-length': '82', 'x-amz-apigw-id': 'IM_QmGtiPHcFazQ=', 'x-amzn-trace-id': 'Root=1-64b51269-36dea7ee4dd669dd53f5e718', 'x-cache': 'Miss from cloudfront', 'via': '1.1 9271613ca75ff23f2705036f94022cfe.cloudfront.net (CloudFront)', 'x-amz-cf-pop': 'BKK50-C1', 'x-amz-cf-id': 'gSIno0vkuo-sGR0QOn6fAZpr4weAeyglwOZeMhlyrQdIA-2Ifo51Xw=='}), parsed=ResultsScrollingRecords(query_execution_id='8e8aa4a9-50ff-40f8-a3a6-274eb68f843a', results=[], next_token=<bazze.bazze_api_client.datatypes.Unset object at 0x11daf98e0>, additional_properties={}))"
      ]
     },
     "execution_count": 13,
     "metadata": {},
     "output_type": "execute_result"
    }
   ],
   "source": [
    "records_get.sync_detailed(client=client,\n",
    "        from_date=datetime.date.today() - datetime.timedelta(days=366),\n",
    "        to_date=datetime.date.today() - datetime.timedelta(days=364),\n",
    "        limit=10,\n",
    "        country='TH',\n",
    "        horizontal_accuracy='1',\n",
    "        advertising_id='', \n",
    "        ip_address = '',\n",
    "        wifi_ssid='TP-LINK',\n",
    "        wifi_bssid='',\n",
    "        bazze_gps_country='',\n",
    "        wait=True)"
   ]
  },
  {
   "cell_type": "code",
   "execution_count": 50,
   "id": "243e217f",
   "metadata": {},
   "outputs": [],
   "source": [
    "# it's working for the simple records\n",
    "\n",
    "my_records_test=records_get.sync(client=client,\n",
    "        from_date=datetime.date.today() - datetime.timedelta(days=60),\n",
    "        to_date=datetime.date.today() - datetime.timedelta(days=30),\n",
    "        limit=10,\n",
    "        country='',\n",
    "        horizontal_accuracy='',\n",
    "        advertising_id='', \n",
    "        ip_address = '192.168.1.1',\n",
    "        wifi_ssid='',\n",
    "        wifi_bssid='',\n",
    "        bazze_gps_country='',\n",
    "        wait=True)"
   ]
  },
  {
   "cell_type": "code",
   "execution_count": 53,
   "id": "15a505da",
   "metadata": {},
   "outputs": [
    {
     "data": {
      "text/plain": [
       "bazze.bazze_api_client.models.results_scrolling_records.ResultsScrollingRecords"
      ]
     },
     "execution_count": 53,
     "metadata": {},
     "output_type": "execute_result"
    }
   ],
   "source": [
    "type(my_records_test)"
   ]
  },
  {
   "cell_type": "code",
   "execution_count": 55,
   "id": "6e6d2bb0",
   "metadata": {},
   "outputs": [
    {
     "data": {
      "text/plain": [
       "[Record(advertising_id='32C72456-06E4-49A2-91A9-1B385C7C037B', advertising_id_type=<RecordAdvertisingIdType.GAID: 'gaid'>, altitude='', bazze_device_id='6a7c2ccb2d77cc43b04339295008140dc2bbcafe332a5140405d672ea28e9a4b', bazze_event_id='8b3615ddc1cbaf2126174192de27dd23dc10d30b07946e0d5c9394933bd61dfb', bazze_geohash='qw85kpq7', bazze_mgrs='49MFM8534', country='ID', horizontal_accuracy='18.0', iot_signals='', ip_address='192.168.1.1', latitude='-7.82573', longitude='112.68466', publisher_id='', timestamp=datetime.datetime(2023, 6, 9, 7, 24, 49), user_agent='', wifi_bssid='', wifi_ssid='', additional_properties={'bazze_gps_country': 'ID', 'bazze_source_id': 'd1483ba73b39f3cf2b75716bc73c53d125e96267'}),\n",
       " Record(advertising_id='32C72456-06E4-49A2-91A9-1B385C7C037B', advertising_id_type=<RecordAdvertisingIdType.GAID: 'gaid'>, altitude='', bazze_device_id='6a7c2ccb2d77cc43b04339295008140dc2bbcafe332a5140405d672ea28e9a4b', bazze_event_id='3a56d5df99578d651c6d95e8bc46a55bb0bd51cbc67c0c442c95749b7efb5789', bazze_geohash='qw85k0wy', bazze_mgrs='49MFM8530', country='ID', horizontal_accuracy='3.0', iot_signals='', ip_address='192.168.1.1', latitude='-7.86239', longitude='112.68522', publisher_id='', timestamp=datetime.datetime(2023, 6, 9, 18, 54, 23), user_agent='', wifi_bssid='', wifi_ssid='', additional_properties={'bazze_gps_country': 'ID', 'bazze_source_id': '4778c852aa39428c610864d023e59162337c9833'}),\n",
       " Record(advertising_id='32C72456-06E4-49A2-91A9-1B385C7C037B', advertising_id_type=<RecordAdvertisingIdType.GAID: 'gaid'>, altitude='', bazze_device_id='6a7c2ccb2d77cc43b04339295008140dc2bbcafe332a5140405d672ea28e9a4b', bazze_event_id='4512c45b254799b187e9c9fc51c30ecbe651465fef49b2d51b924c67c236b79d', bazze_geohash='qw85kpq7', bazze_mgrs='49MFM8534', country='ID', horizontal_accuracy='9.6', iot_signals='', ip_address='192.168.1.1', latitude='-7.825841', longitude='112.68458', publisher_id='', timestamp=datetime.datetime(2023, 6, 9, 5, 53, 8), user_agent='', wifi_bssid='', wifi_ssid='', additional_properties={'bazze_gps_country': 'ID', 'bazze_source_id': '0947e215133a6224632020e8c1b84ce9c1f3ba32'}),\n",
       " Record(advertising_id='32C72456-06E4-49A2-91A9-1B385C7C037B', advertising_id_type=<RecordAdvertisingIdType.GAID: 'gaid'>, altitude='', bazze_device_id='6a7c2ccb2d77cc43b04339295008140dc2bbcafe332a5140405d672ea28e9a4b', bazze_event_id='6a7f0cdffd699c837215d29399d2036df850e94461bad9aba5a8860aee3a0f6a', bazze_geohash='qw85kpq7', bazze_mgrs='49MFM8534', country='ID', horizontal_accuracy='21.9', iot_signals='', ip_address='192.168.1.1', latitude='-7.825728', longitude='112.684685', publisher_id='', timestamp=datetime.datetime(2023, 6, 9, 7, 24, 34), user_agent='', wifi_bssid='', wifi_ssid='', additional_properties={'bazze_gps_country': 'ID', 'bazze_source_id': '51a94268d298bceadef9744b94097ccbfb592f7b'}),\n",
       " Record(advertising_id='32C72456-06E4-49A2-91A9-1B385C7C037B', advertising_id_type=<RecordAdvertisingIdType.GAID: 'gaid'>, altitude='', bazze_device_id='6a7c2ccb2d77cc43b04339295008140dc2bbcafe332a5140405d672ea28e9a4b', bazze_event_id='580436a2fef8c1ef48ba95f8a2e5beedd668537326c9295aebcf44276b92daf9', bazze_geohash='qw85k0wy', bazze_mgrs='49MFM8530', country='ID', horizontal_accuracy='7.2', iot_signals='', ip_address='192.168.1.1', latitude='-7.862424', longitude='112.68522', publisher_id='', timestamp=datetime.datetime(2023, 6, 9, 19, 21, 15), user_agent='', wifi_bssid='', wifi_ssid='', additional_properties={'bazze_gps_country': 'ID', 'bazze_source_id': '7340ef0b3d281899810d69160509bfe3e941a6ae'}),\n",
       " Record(advertising_id='A66E08F5-E349-4BFD-80BC-EF4E99FE986A', advertising_id_type=<RecordAdvertisingIdType.GAID: 'gaid'>, altitude='', bazze_device_id='c21cb4f9a2e86d380d2718aa3eb65c6fba96a342e488028caaf110aaea54b4fd', bazze_event_id='f554a24f219075b434f0e08cd614780b67b61dcf8abf94ee6a5188ac122a1934', bazze_geohash='ts5ej15f', bazze_mgrs='43QBF5849', country='IN', horizontal_accuracy='6.0', iot_signals='', ip_address='192.168.1.1', latitude='23.03334', longitude='72.64699', publisher_id='NIVImOrXuwQJrPeni/xjiw==', timestamp=datetime.datetime(2023, 6, 15, 14, 34, 53), user_agent='', wifi_bssid='', wifi_ssid='', additional_properties={'bazze_gps_country': 'IN', 'bazze_source_id': '2e96e4294865c21b981daa512692f6101e16e025'}),\n",
       " Record(advertising_id='A66E08F5-E349-4BFD-80BC-EF4E99FE986A', advertising_id_type=<RecordAdvertisingIdType.GAID: 'gaid'>, altitude='', bazze_device_id='c21cb4f9a2e86d380d2718aa3eb65c6fba96a342e488028caaf110aaea54b4fd', bazze_event_id='c960719132a230d9fb63a31316092d1eacbf6139d731c106e4a623356d789617', bazze_geohash='ts5ej15g', bazze_mgrs='43QBF5849', country='IN', horizontal_accuracy='7.0', iot_signals='', ip_address='192.168.1.1', latitude='23.03337', longitude='72.64707', publisher_id='3a26a611a00900f1dceb02157fa76fe5', timestamp=datetime.datetime(2023, 6, 15, 14, 33, 38), user_agent='', wifi_bssid='', wifi_ssid='', additional_properties={'bazze_gps_country': 'IN', 'bazze_source_id': '475c0f7a3cd26e8ed606a82a8ba11cdd9b380252'}),\n",
       " Record(advertising_id='263AF658-2280-4CDD-AB34-E7D021B0D0E3', advertising_id_type=<RecordAdvertisingIdType.GAID: 'gaid'>, altitude='', bazze_device_id='33f9c36c020c86fd7c48e82b30955e83a6a9c18f0ff48006c3abb6e3a7996345', bazze_event_id='b8425aa7571c27f65b35ef05747b9db1d79a04b4d6d41284a8b44603f26e4032', bazze_geohash='tuhtj89g', bazze_mgrs='45QUF2886', country='IN', horizontal_accuracy='13.0', iot_signals='', ip_address='192.168.1.1', latitude='23.3823', longitude='85.32225', publisher_id='mhpJ6DBQhTAELm0t6YdS3Q==', timestamp=datetime.datetime(2023, 6, 16, 7, 6, 46), user_agent='', wifi_bssid='', wifi_ssid='', additional_properties={'bazze_gps_country': 'IN', 'bazze_source_id': '89d508364c42c7d0e7937fd530714925ca08a468'}),\n",
       " Record(advertising_id='263AF658-2280-4CDD-AB34-E7D021B0D0E3', advertising_id_type=<RecordAdvertisingIdType.GAID: 'gaid'>, altitude='', bazze_device_id='33f9c36c020c86fd7c48e82b30955e83a6a9c18f0ff48006c3abb6e3a7996345', bazze_event_id='06a7c662ffeb9226a205a490ad28f3b7d59bd1a88c7bbefbc806f8082aee6703', bazze_geohash='tuhtj89g', bazze_mgrs='45QUF2886', country='IN', horizontal_accuracy='13.952', iot_signals='', ip_address='192.168.1.1', latitude='23.382313', longitude='85.322235', publisher_id='a675cf622e60fa8a2527c2dc35edd428ae7e28aeabb7d3862117c72ee5e093ac', timestamp=datetime.datetime(2023, 6, 16, 7, 6, 12), user_agent='', wifi_bssid='', wifi_ssid='', additional_properties={'bazze_gps_country': 'IN', 'bazze_source_id': 'ca2d852a9d85452be969ee94e62d53f1579b0101'}),\n",
       " Record(advertising_id='32C72456-06E4-49A2-91A9-1B385C7C037B', advertising_id_type=<RecordAdvertisingIdType.GAID: 'gaid'>, altitude='', bazze_device_id='6a7c2ccb2d77cc43b04339295008140dc2bbcafe332a5140405d672ea28e9a4b', bazze_event_id='e366d27254fe178b975b4551f059420c2515001d66eddb34b9892a58836e9ce8', bazze_geohash='qw85k0wv', bazze_mgrs='49MFM8530', country='ID', horizontal_accuracy='1.0', iot_signals='', ip_address='192.168.1.1', latitude='-7.86244', longitude='112.68523', publisher_id='', timestamp=datetime.datetime(2023, 6, 9, 17, 21, 16), user_agent='', wifi_bssid='', wifi_ssid='', additional_properties={'bazze_gps_country': 'ID', 'bazze_source_id': 'f4e653b92a492ec544d434fbd2961377d4a387ba'})]"
      ]
     },
     "execution_count": 55,
     "metadata": {},
     "output_type": "execute_result"
    }
   ],
   "source": [
    "my_records_test.results"
   ]
  },
  {
   "cell_type": "code",
   "execution_count": null,
   "id": "4dc9ba5b",
   "metadata": {},
   "outputs": [],
   "source": []
  },
  {
   "cell_type": "code",
   "execution_count": null,
   "id": "50f73146",
   "metadata": {},
   "outputs": [],
   "source": [
    "# test for the geofenced "
   ]
  },
  {
   "cell_type": "code",
   "execution_count": null,
   "id": "2b4f69e2",
   "metadata": {},
   "outputs": [],
   "source": []
  },
  {
   "cell_type": "code",
   "execution_count": null,
   "id": "06229510",
   "metadata": {},
   "outputs": [],
   "source": []
  },
  {
   "cell_type": "code",
   "execution_count": null,
   "id": "eda4dc2c",
   "metadata": {},
   "outputs": [],
   "source": [
    "# TEST HELPER FUNCTIONS"
   ]
  },
  {
   "cell_type": "code",
   "execution_count": 71,
   "id": "99bd2d75",
   "metadata": {},
   "outputs": [],
   "source": [
    "from typing import Any, Dict, Optional, Union, cast\n",
    "from bazze.bazze_api_client.datatypes import UNSET, Response\n",
    "\n",
    "def _get_kwargs(\n",
    "    *,\n",
    "    client: Client,\n",
    "    wait: bool = False,\n",
    "    dryrun: bool = False,\n",
    "    limit: str,\n",
    "    horizontal_accuracy: float,\n",
    "    from_date: datetime.datetime,\n",
    "    to_date: datetime.datetime,\n",
    "    advertising_id: str,\n",
    "    ip_address: str,\n",
    "    wifi_ssid: str,\n",
    "    wifi_bssid: str,\n",
    "    country: str,\n",
    "    bazze_gps_country: str,\n",
    ") -> Dict[str, Any]:\n",
    "    url = \"{}/records\".format(client.base_url)\n",
    "\n",
    "    headers: Dict[str, str] = client.get_headers()\n",
    "    cookies: Dict[str, Any] = client.get_cookies()\n",
    "\n",
    "    params: Dict[str, Any] = {}\n",
    "    params[\"wait\"] = wait\n",
    "\n",
    "    params[\"dryrun\"] = dryrun\n",
    "\n",
    "    params[\"limit\"] = limit\n",
    "\n",
    "    json_from_date = from_date.isoformat()\n",
    "    \n",
    "    params[\"from_date\"] = json_from_date\n",
    "\n",
    "    json_to_date = to_date.isoformat()\n",
    "    \n",
    "    params[\"to_date\"] = json_to_date\n",
    "    \n",
    "    # optional parameters \n",
    "    \n",
    "    if horizontal_accuracy != '':\n",
    "        params[\"horizontal_accuracy\"] = horizontal_accuracy\n",
    "\n",
    "    if country != '':\n",
    "        params[\"country\"] = country\n",
    "    \n",
    "    if bazze_gps_country != '':\n",
    "        params[\"bazze_gps_country\"] = bazze_gps_country\n",
    "    \n",
    "    if advertising_id != '':\n",
    "        params[\"advertising_id\"] = advertising_id\n",
    "\n",
    "    if ip_address != '':    \n",
    "        params[\"ip_address\"] = ip_address\n",
    "\n",
    "    if wifi_ssid != '':\n",
    "        params[\"wifi_ssid\"] = wifi_ssid\n",
    "\n",
    "    if wifi_bssid != '':\n",
    "        params[\"wifi_bssid\"] = wifi_bssid\n",
    "\n",
    "\n",
    "\n",
    "    params = {k: v for k, v in params.items() if v is not UNSET and v is not None}\n",
    "\n",
    "    return {\n",
    "        \"method\": \"get\",\n",
    "        \"url\": url,\n",
    "        \"headers\": headers,\n",
    "        \"cookies\": cookies,\n",
    "        \"timeout\": client.get_timeout(),\n",
    "        \"params\": params,\n",
    "    }\n",
    "\n"
   ]
  },
  {
   "cell_type": "code",
   "execution_count": 63,
   "id": "485fed9b",
   "metadata": {},
   "outputs": [],
   "source": [
    "\n",
    "def _build_response(\n",
    "    *, client: Client, response: httpx.Response\n",
    ") -> Response[Union[Any, Union[\"QueryExecution\", \"ResultsScrollingRecords\"]]]:\n",
    "    return Response(\n",
    "        status_code=HTTPStatus(response.status_code),\n",
    "        content=response.content,\n",
    "        headers=response.headers,\n",
    "        parsed=_parse_response(client=client, response=response),\n",
    "    )\n",
    "\n",
    "\n",
    "def sync_detailed(\n",
    "    *,\n",
    "    client: Client,\n",
    "    wait: bool = False,\n",
    "    dryrun: bool = False,\n",
    "    limit: str,\n",
    "    horizontal_accuracy: float,\n",
    "    from_date: datetime.datetime,\n",
    "    to_date: datetime.datetime,\n",
    "    advertising_id: str,\n",
    "    ip_address: str,\n",
    "    wifi_ssid: str,\n",
    "    wifi_bssid: str,\n",
    "    country: str,\n",
    "    bazze_gps_country: str,\n",
    ") -> Response[Union[Any, Union[\"QueryExecution\", \"ResultsScrollingRecords\"]]]:\n",
    "    \"\"\"Get records by selector\n",
    "\n",
    "     ## Description\n",
    "    Get records by searching one or more selectors. This is an AND type query, meaning that it will\n",
    "    return\n",
    "    a record only if it matches ALL of the criteria.\n",
    "\n",
    "    **NOTE**: Each query return is limited to 20 million records. Records will be selected randomly from\n",
    "    the dataset.\n",
    "\n",
    "    Args:\n",
    "        wait (bool):\n",
    "        dryrun (bool):\n",
    "        limit (str):  Example: 10.\n",
    "        horizontal_accuracy (float):  Example: 50.\n",
    "        from_date (datetime.datetime):  Example: 2021-06-01.\n",
    "        to_date (datetime.datetime):  Example: 2021-06-05.\n",
    "        advertising_id (str):\n",
    "        ip_address (str):\n",
    "        wifi_ssid (str):  Example: TP-LINK.\n",
    "        wifi_bssid (str):\n",
    "        country (str):  Example: RU.\n",
    "        bazze_gps_country (str):  Example: RU.\n",
    "\n",
    "    Raises:\n",
    "        errors.UnexpectedStatus: If the server returns an undocumented status code and Client.raise_on_unexpected_status is True.\n",
    "        httpx.TimeoutException: If the request takes longer than Client.timeout.\n",
    "\n",
    "    Returns:\n",
    "        Response[Union[Any, Union['QueryExecution', 'ResultsScrollingRecords']]]\n",
    "    \"\"\"\n",
    "\n",
    "    kwargs = _get_kwargs(\n",
    "        client=client,\n",
    "        wait=wait,\n",
    "        dryrun=dryrun,\n",
    "        limit=limit,\n",
    "        horizontal_accuracy=horizontal_accuracy,\n",
    "        from_date=from_date,\n",
    "        to_date=to_date,\n",
    "        advertising_id=advertising_id,\n",
    "        ip_address=ip_address,\n",
    "        wifi_ssid=wifi_ssid,\n",
    "        wifi_bssid=wifi_bssid,\n",
    "        country=country,\n",
    "        bazze_gps_country=bazze_gps_country,\n",
    "    )\n",
    "\n",
    "    response = httpx.request(\n",
    "        verify=client.verify_ssl,\n",
    "        **kwargs,\n",
    "    )\n",
    "\n",
    "    return _build_response(client=client, response=response)\n"
   ]
  },
  {
   "cell_type": "code",
   "execution_count": 75,
   "id": "eaa981a5",
   "metadata": {},
   "outputs": [],
   "source": [
    "def _parse_response(\n",
    "    *, client: Client, response: httpx.Response\n",
    ") -> Optional[Union[Any, Union[\"QueryExecution\", \"ResultsScrollingRecords\"]]]:\n",
    "    if response.status_code == HTTPStatus.OK:\n",
    "\n",
    "        def _parse_response_200(data: object) -> Union[\"QueryExecution\", \"ResultsScrollingRecords\"]:\n",
    "            try:\n",
    "                if not isinstance(data, dict):\n",
    "                    raise TypeError()\n",
    "                response_200_type_0 = ResultsScrollingRecords.from_dict(data)\n",
    "\n",
    "                return response_200_type_0\n",
    "            except:  # noqa: E722\n",
    "                pass\n",
    "            if not isinstance(data, dict):\n",
    "                raise TypeError()\n",
    "            response_200_type_1 = QueryExecution.from_dict(data)\n",
    "\n",
    "            return response_200_type_1\n",
    "\n",
    "        response_200 = _parse_response_200(response.json())\n",
    "\n",
    "        return response_200\n",
    "    if response.status_code == HTTPStatus.BAD_REQUEST:\n",
    "        response_400 = cast(Any, None)\n",
    "        return response_400\n",
    "    if client.raise_on_unexpected_status:\n",
    "        raise errors.UnexpectedStatus(f\"Unexpected status code: {response.status_code}\")\n",
    "    else:\n",
    "        return None\n"
   ]
  },
  {
   "cell_type": "code",
   "execution_count": null,
   "id": "3568e4f4",
   "metadata": {},
   "outputs": [],
   "source": []
  },
  {
   "cell_type": "code",
   "execution_count": null,
   "id": "6ced58b9",
   "metadata": {},
   "outputs": [],
   "source": []
  },
  {
   "cell_type": "code",
   "execution_count": 45,
   "id": "afd762fd",
   "metadata": {},
   "outputs": [
    {
     "name": "stdout",
     "output_type": "stream",
     "text": [
      "{\r\n",
      "  \"QueryExecutionId\": \"50b9af50-e6b0-498f-acfc-e47f785a24c6\",\r\n",
      "  \"results\": []\r\n",
      "}\r\n"
     ]
    }
   ],
   "source": [
    "\n",
    "! curl -H \"x-api-key: {api_key}\" \"https://api.bazze.io/v1/records?wait=true&limit=10&from_date=2023-07-01&to_date=2023-07-04&country=TH&wifi_ssid=TP-LINK\""
   ]
  }
 ],
 "metadata": {
  "kernelspec": {
   "display_name": "Python 3 (ipykernel)",
   "language": "python",
   "name": "python3"
  },
  "language_info": {
   "codemirror_mode": {
    "name": "ipython",
    "version": 3
   },
   "file_extension": ".py",
   "mimetype": "text/x-python",
   "name": "python",
   "nbconvert_exporter": "python",
   "pygments_lexer": "ipython3",
   "version": "3.9.13"
  }
 },
 "nbformat": 4,
 "nbformat_minor": 5
}
