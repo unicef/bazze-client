{
 "cells": [
  {
   "cell_type": "code",
   "execution_count": 1,
   "id": "95c6599b",
   "metadata": {},
   "outputs": [],
   "source": [
    "import os\n",
    "import pickle\n",
    "\n",
    "import pandas as pd\n",
    "import pycountry\n",
    "\n",
    "import plotly.express as px\n",
    "import datetime\n"
   ]
  },
  {
   "cell_type": "code",
   "execution_count": 6,
   "id": "d00ed865",
   "metadata": {},
   "outputs": [
    {
     "name": "stdout",
     "output_type": "stream",
     "text": [
      "/Users/hugoruizverastegui/Documents/UNICEF - Github/bazze-client/bazze_api_client\n",
      "/Users/hugoruizverastegui/opt/anaconda3/envs/sitrep/lib/python39.zip\n",
      "/Users/hugoruizverastegui/opt/anaconda3/envs/sitrep/lib/python3.9\n",
      "/Users/hugoruizverastegui/opt/anaconda3/envs/sitrep/lib/python3.9/lib-dynload\n",
      "\n",
      "/Users/hugoruizverastegui/opt/anaconda3/envs/sitrep/lib/python3.9/site-packages\n",
      "/Users/hugoruizverastegui/Documents/UNICEF - Github/bazze-client\n"
     ]
    }
   ],
   "source": [
    "import sys\n",
    "print(\"\\n\".join(sys.path))\n",
    "#sys.path.append(os.path.abspath('/Repos/huruiz@unicef.org/bazze-client/bazze_api_client'))"
   ]
  },
  {
   "cell_type": "code",
   "execution_count": 7,
   "id": "3bd58f6e",
   "metadata": {},
   "outputs": [],
   "source": [
    "sys.path.append(os.path.abspath('/Users/hugoruizverastegui/Documents/UNICEF - Github/bazze-client'))\n",
    "sys.path.append(os.path.abspath('/Users/hugoruizverastegui/Documents/UNICEF - Github/bazze-client/bazze_api_client/api'))"
   ]
  },
  {
   "cell_type": "code",
   "execution_count": 26,
   "id": "b96b8223",
   "metadata": {},
   "outputs": [],
   "source": [
    "#import directly in the repo work\n",
    "import client, errors, types"
   ]
  },
  {
   "cell_type": "code",
   "execution_count": 3,
   "id": "1264f057",
   "metadata": {},
   "outputs": [],
   "source": [
    "from bazze.bazze_api_client import AuthenticatedClient, Client"
   ]
  },
  {
   "cell_type": "code",
   "execution_count": 4,
   "id": "cd190639",
   "metadata": {},
   "outputs": [
    {
     "ename": "ImportError",
     "evalue": "cannot import name 'UNSET' from 'types' (/Users/hugoruizverastegui/opt/anaconda3/envs/sitrep/lib/python3.9/types.py)",
     "output_type": "error",
     "traceback": [
      "\u001b[0;31m---------------------------------------------------------------------------\u001b[0m",
      "\u001b[0;31mImportError\u001b[0m                               Traceback (most recent call last)",
      "Cell \u001b[0;32mIn [4], line 2\u001b[0m\n\u001b[1;32m      1\u001b[0m \u001b[38;5;66;03m#from bazze.bazze_api_client.models import query_execution\u001b[39;00m\n\u001b[0;32m----> 2\u001b[0m \u001b[38;5;28;01mfrom\u001b[39;00m \u001b[38;5;21;01mbazze\u001b[39;00m\u001b[38;5;21;01m.\u001b[39;00m\u001b[38;5;21;01mbazze_api_client\u001b[39;00m\u001b[38;5;21;01m.\u001b[39;00m\u001b[38;5;21;01mmodels\u001b[39;00m \u001b[38;5;28;01mimport\u001b[39;00m counts\n\u001b[1;32m      3\u001b[0m \u001b[38;5;28;01mfrom\u001b[39;00m \u001b[38;5;21;01mbazze\u001b[39;00m\u001b[38;5;21;01m.\u001b[39;00m\u001b[38;5;21;01mbazze_api_client\u001b[39;00m\u001b[38;5;21;01m.\u001b[39;00m\u001b[38;5;21;01mapi\u001b[39;00m\u001b[38;5;21;01m.\u001b[39;00m\u001b[38;5;21;01mstatistics\u001b[39;00m \u001b[38;5;28;01mimport\u001b[39;00m stats_counts_by_country_get\n\u001b[1;32m      4\u001b[0m \u001b[38;5;28;01mfrom\u001b[39;00m \u001b[38;5;21;01mbazze\u001b[39;00m\u001b[38;5;21;01m.\u001b[39;00m\u001b[38;5;21;01mbazze_api_client\u001b[39;00m\u001b[38;5;21;01m.\u001b[39;00m\u001b[38;5;21;01mapi\u001b[39;00m\u001b[38;5;21;01m.\u001b[39;00m\u001b[38;5;21;01mstatistics\u001b[39;00m \u001b[38;5;28;01mimport\u001b[39;00m stats_counts_by_countries_get\n",
      "File \u001b[0;32m~/Documents/UNICEF - Github/bazze-client/bazze/bazze_api_client/models/__init__.py:18\u001b[0m\n\u001b[1;32m     16\u001b[0m \u001b[38;5;28;01mfrom\u001b[39;00m \u001b[38;5;21;01m.\u001b[39;00m\u001b[38;5;21;01mquery_bills\u001b[39;00m \u001b[38;5;28;01mimport\u001b[39;00m QueryBills\n\u001b[1;32m     17\u001b[0m \u001b[38;5;28;01mfrom\u001b[39;00m \u001b[38;5;21;01m.\u001b[39;00m\u001b[38;5;21;01mquery_bills_pagination\u001b[39;00m \u001b[38;5;28;01mimport\u001b[39;00m QueryBillsPagination\n\u001b[0;32m---> 18\u001b[0m \u001b[38;5;28;01mfrom\u001b[39;00m \u001b[38;5;21;01m.\u001b[39;00m\u001b[38;5;21;01mquery_execution\u001b[39;00m \u001b[38;5;28;01mimport\u001b[39;00m QueryExecution\n\u001b[1;32m     19\u001b[0m \u001b[38;5;28;01mfrom\u001b[39;00m \u001b[38;5;21;01m.\u001b[39;00m\u001b[38;5;21;01mquery_execution_scrolling\u001b[39;00m \u001b[38;5;28;01mimport\u001b[39;00m QueryExecutionScrolling\n\u001b[1;32m     20\u001b[0m \u001b[38;5;28;01mfrom\u001b[39;00m \u001b[38;5;21;01m.\u001b[39;00m\u001b[38;5;21;01mquery_execution_status\u001b[39;00m \u001b[38;5;28;01mimport\u001b[39;00m QueryExecutionStatus\n",
      "File \u001b[0;32m~/Documents/UNICEF - Github/bazze-client/bazze/bazze_api_client/models/query_execution.py:7\u001b[0m\n\u001b[1;32m      4\u001b[0m \u001b[38;5;28;01mimport\u001b[39;00m \u001b[38;5;21;01msys\u001b[39;00m \n\u001b[1;32m      5\u001b[0m sys\u001b[38;5;241m.\u001b[39mpath\u001b[38;5;241m.\u001b[39minsert(\u001b[38;5;241m0\u001b[39m, \u001b[38;5;124m'\u001b[39m\u001b[38;5;124m..\u001b[39m\u001b[38;5;124m'\u001b[39m)\n\u001b[0;32m----> 7\u001b[0m \u001b[38;5;28;01mfrom\u001b[39;00m \u001b[38;5;21;01mtypes\u001b[39;00m \u001b[38;5;28;01mimport\u001b[39;00m UNSET, Unset\n\u001b[1;32m      8\u001b[0m \u001b[38;5;66;03m#from ..types import UNSET, Unset\u001b[39;00m\n\u001b[1;32m     10\u001b[0m \u001b[38;5;28;01mif\u001b[39;00m TYPE_CHECKING:\n",
      "\u001b[0;31mImportError\u001b[0m: cannot import name 'UNSET' from 'types' (/Users/hugoruizverastegui/opt/anaconda3/envs/sitrep/lib/python3.9/types.py)"
     ]
    }
   ],
   "source": [
    "\n",
    "#from bazze.bazze_api_client.models import query_execution\n",
    "#from bazze.bazze_api_client.models import counts\n",
    "#from bazze.bazze_api_client.api.statistics import stats_counts_by_country_get\n",
    "#from bazze.bazze_api_client.api.statistics import stats_counts_by_countries_get\n",
    "#from bazze.bazze_api_client.types import Response\n",
    "from bazze.bazze_api_client.api.results import results_post\n",
    "from bazze.bazze_api_client.models import results\n",
    "\n",
    "#rename 'types.py' to 'datatypes.py'"
   ]
  },
  {
   "cell_type": "code",
   "execution_count": null,
   "id": "81a9e8da",
   "metadata": {},
   "outputs": [],
   "source": []
  },
  {
   "cell_type": "code",
   "execution_count": null,
   "id": "c669b188",
   "metadata": {},
   "outputs": [],
   "source": []
  },
  {
   "cell_type": "code",
   "execution_count": 27,
   "id": "5e46c714",
   "metadata": {},
   "outputs": [
    {
     "ename": "ModuleNotFoundError",
     "evalue": "No module named 'api.models'",
     "output_type": "error",
     "traceback": [
      "\u001b[0;31m---------------------------------------------------------------------------\u001b[0m",
      "\u001b[0;31mModuleNotFoundError\u001b[0m                       Traceback (most recent call last)",
      "Cell \u001b[0;32mIn [27], line 3\u001b[0m\n\u001b[1;32m      1\u001b[0m \u001b[38;5;66;03m# import in a subfolder fail\u001b[39;00m\n\u001b[1;32m      2\u001b[0m \u001b[38;5;66;03m# it finds the subfolder, but the import it itself contains are defined with relative '...' path which create issues \u001b[39;00m\n\u001b[0;32m----> 3\u001b[0m \u001b[38;5;28;01mfrom\u001b[39;00m \u001b[38;5;21;01mapi\u001b[39;00m\u001b[38;5;21;01m.\u001b[39;00m\u001b[38;5;21;01mstatistics\u001b[39;00m \u001b[38;5;28;01mimport\u001b[39;00m record_counts_get\n",
      "File \u001b[0;32m~/Documents/UNICEF - Github/bazze-client/bazze_api_client/api/statistics/record_counts_get.py:16\u001b[0m\n\u001b[1;32m      9\u001b[0m sys\u001b[38;5;241m.\u001b[39mpath\u001b[38;5;241m.\u001b[39minsert(\u001b[38;5;241m0\u001b[39m, \u001b[38;5;124m'\u001b[39m\u001b[38;5;124m..\u001b[39m\u001b[38;5;124m'\u001b[39m)\n\u001b[1;32m     11\u001b[0m \u001b[38;5;66;03m#import errors\u001b[39;00m\n\u001b[1;32m     12\u001b[0m \u001b[38;5;66;03m#from client import Client \u001b[39;00m\n\u001b[1;32m     13\u001b[0m \u001b[38;5;66;03m#from models.query_execution import QueryExecution\u001b[39;00m\n\u001b[1;32m     14\u001b[0m \u001b[38;5;66;03m#from ... import errors\u001b[39;00m\n\u001b[1;32m     15\u001b[0m \u001b[38;5;66;03m#from ...client import Client\u001b[39;00m\n\u001b[0;32m---> 16\u001b[0m \u001b[38;5;28;01mfrom\u001b[39;00m \u001b[38;5;21;01m.\u001b[39;00m\u001b[38;5;21;01m.\u001b[39;00m\u001b[38;5;21;01mmodels\u001b[39;00m\u001b[38;5;21;01m.\u001b[39;00m\u001b[38;5;21;01mquery_execution\u001b[39;00m \u001b[38;5;28;01mimport\u001b[39;00m QueryExecution\n\u001b[1;32m     17\u001b[0m \u001b[38;5;66;03m#from ...models.results_scrolling_records import ResultsScrollingRecords\u001b[39;00m\n\u001b[1;32m     18\u001b[0m \u001b[38;5;66;03m#from ...types import UNSET, Response\u001b[39;00m\n\u001b[1;32m     21\u001b[0m \u001b[38;5;28;01mdef\u001b[39;00m \u001b[38;5;21m_get_kwargs\u001b[39m(\n\u001b[1;32m     22\u001b[0m     \u001b[38;5;241m*\u001b[39m,\n\u001b[1;32m     23\u001b[0m     client: Client,\n\u001b[0;32m   (...)\u001b[0m\n\u001b[1;32m     33\u001b[0m     bazze_gps_country: \u001b[38;5;28mstr\u001b[39m,\n\u001b[1;32m     34\u001b[0m ) \u001b[38;5;241m-\u001b[39m\u001b[38;5;241m>\u001b[39m Dict[\u001b[38;5;28mstr\u001b[39m, Any]:\n",
      "\u001b[0;31mModuleNotFoundError\u001b[0m: No module named 'api.models'"
     ]
    }
   ],
   "source": [
    "# import in a subfolder fail\n",
    "# it finds the subfolder, but the import it itself contains are defined with relative '...' path which create issues \n",
    "from api.statistics import record_counts_get"
   ]
  },
  {
   "cell_type": "code",
   "execution_count": null,
   "id": "8721dc79",
   "metadata": {},
   "outputs": [],
   "source": []
  }
 ],
 "metadata": {
  "kernelspec": {
   "display_name": "Python 3 (ipykernel)",
   "language": "python",
   "name": "python3"
  },
  "language_info": {
   "codemirror_mode": {
    "name": "ipython",
    "version": 3
   },
   "file_extension": ".py",
   "mimetype": "text/x-python",
   "name": "python",
   "nbconvert_exporter": "python",
   "pygments_lexer": "ipython3",
   "version": "3.9.13"
  }
 },
 "nbformat": 4,
 "nbformat_minor": 5
}
